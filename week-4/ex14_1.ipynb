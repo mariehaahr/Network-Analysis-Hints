{
 "cells": [
  {
   "cell_type": "code",
   "execution_count": 1,
   "metadata": {},
   "outputs": [],
   "source": [
    "import networkx as nx"
   ]
  },
  {
   "cell_type": "code",
   "execution_count": 2,
   "metadata": {},
   "outputs": [],
   "source": [
    "# We use newman_watts_strogatz_graph instead of watts_strogatz_graph,\n",
    "# because the latter rewires edges, while the question explicitly asked\n",
    "# for adding shortcuts, rather than rewiring.\n",
    "#Tip: nx.newman_watts_strogatz_graph\n",
    "#Tip: nx.connected_caveman_graph"
   ]
  },
  {
   "cell_type": "code",
   "execution_count": 3,
   "metadata": {},
   "outputs": [],
   "source": [
    "# Quick check on number of nodes and edges.\n",
    "# Tip: print the nodes and edges of the networks"
   ]
  },
  {
   "cell_type": "code",
   "execution_count": 4,
   "metadata": {},
   "outputs": [],
   "source": [
    "# Calculate topology properties.\n",
    "# Tip: Calculate Clustering Coefficient (nx.transitivity)\n",
    "# Tip 2: Calculate average_shortest_path_length (nx.average_shortest_path_length)"
   ]
  },
  {
   "cell_type": "code",
   "execution_count": 5,
   "metadata": {},
   "outputs": [],
   "source": [
    "# print result"
   ]
  }
 ],
 "metadata": {
  "kernelspec": {
   "display_name": "NA",
   "language": "python",
   "name": "python3"
  },
  "language_info": {
   "codemirror_mode": {
    "name": "ipython",
    "version": 3
   },
   "file_extension": ".py",
   "mimetype": "text/x-python",
   "name": "python",
   "nbconvert_exporter": "python",
   "pygments_lexer": "ipython3",
   "version": "3.10.12"
  },
  "orig_nbformat": 4
 },
 "nbformat": 4,
 "nbformat_minor": 2
}
