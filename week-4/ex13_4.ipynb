{
 "cells": [
  {
   "cell_type": "code",
   "execution_count": 1,
   "metadata": {},
   "outputs": [],
   "source": [
    "# imports\n",
    "import networkx as nx"
   ]
  },
  {
   "cell_type": "code",
   "execution_count": 2,
   "metadata": {},
   "outputs": [],
   "source": [
    "# Load the data \n",
    "# Tip: data is in the format of edgelist"
   ]
  },
  {
   "cell_type": "markdown",
   "metadata": {},
   "source": [
    "$G_{n,m}$ : \n",
    "A random network with $n$ nodes and $m$ edges"
   ]
  },
  {
   "cell_type": "code",
   "execution_count": 3,
   "metadata": {},
   "outputs": [],
   "source": [
    "# Make a random graph version of G keeping the number of nodes and edges.\n",
    "# Tip: How many nodes and edges does G have?\n",
    "# Tip 2: Use nx.gnm_random_graph"
   ]
  },
  {
   "cell_type": "code",
   "execution_count": 4,
   "metadata": {},
   "outputs": [],
   "source": [
    "# Calculating clustering coefficient. The real world network has a much\n",
    "# higher value than the random counterpart.\n",
    "# Tip: Use nx.transitivity\n",
    "\n",
    "# print the results"
   ]
  },
  {
   "cell_type": "markdown",
   "metadata": {},
   "source": [
    "Remember\n",
    "$$m = p \\frac{n (n-1)}{2}$$\n",
    "Where $m$ is the number of edges and $n$ is the number of nodes"
   ]
  },
  {
   "cell_type": "code",
   "execution_count": 5,
   "metadata": {},
   "outputs": [],
   "source": [
    "# Deriving the p parameter from the number of nodes and edges of the random\n",
    "# graph. It's practically indistinguishable from its clustering coefficient!\n",
    "# Tip: Use the formula from the lecture\n",
    "# Tip 2: Calculate all possible edges in the graph"
   ]
  }
 ],
 "metadata": {
  "kernelspec": {
   "display_name": "NA",
   "language": "python",
   "name": "python3"
  },
  "language_info": {
   "codemirror_mode": {
    "name": "ipython",
    "version": 3
   },
   "file_extension": ".py",
   "mimetype": "text/x-python",
   "name": "python",
   "nbconvert_exporter": "python",
   "pygments_lexer": "ipython3",
   "version": "3.10.12"
  },
  "orig_nbformat": 4
 },
 "nbformat": 4,
 "nbformat_minor": 2
}
