{
 "cells": [
  {
   "cell_type": "code",
   "execution_count": 1,
   "metadata": {},
   "outputs": [],
   "source": [
    "import random\n",
    "import networkx as nx"
   ]
  },
  {
   "cell_type": "code",
   "execution_count": 2,
   "metadata": {},
   "outputs": [],
   "source": [
    "# Load data\n",
    "# Tip: The data is in the format of edgelist\n",
    "# Tip 2: The node type is int (nodetype=int)"
   ]
  },
  {
   "cell_type": "code",
   "execution_count": 3,
   "metadata": {},
   "outputs": [],
   "source": [
    "# We need to keep track of the nodes and the edges we have sampled, so we store them in sets.\n",
    "# Tip: pick a random node to start with"
   ]
  },
  {
   "cell_type": "code",
   "execution_count": 4,
   "metadata": {},
   "outputs": [],
   "source": [
    "# Tip: Remember that we have to sample 2000 nodes. This can be done in a while loop.\n",
    "# Tip 2: Get the neighbors of the current node.\n",
    "# Tip 3: Update the set of sampled nodes and sampled edges if the current node is not sampled before.\n",
    " \n",
    "      \n",
    "# We update the set of sampled edges. We need to have a canonical representation of the edge because the network is undirected,\n",
    "# so if we already saw the edge because we sampled the neighbor, we might have stored the edge as (neighbor, curnode) rather than\n",
    "# (curnode, neighbor). With a min-max trick.\n",
    "   \n"
   ]
  },
  {
   "cell_type": "code",
   "execution_count": 5,
   "metadata": {},
   "outputs": [
    {
     "name": "stdout",
     "output_type": "stream",
     "text": [
      "64294\n"
     ]
    }
   ],
   "source": [
    "# Make a graf of the sampled edges\n",
    "\n",
    "# Print the number of nodes"
   ]
  }
 ],
 "metadata": {
  "kernelspec": {
   "display_name": "NA",
   "language": "python",
   "name": "python3"
  },
  "language_info": {
   "codemirror_mode": {
    "name": "ipython",
    "version": 3
   },
   "file_extension": ".py",
   "mimetype": "text/x-python",
   "name": "python",
   "nbconvert_exporter": "python",
   "pygments_lexer": "ipython3",
   "version": "3.10.12"
  },
  "orig_nbformat": 4
 },
 "nbformat": 4,
 "nbformat_minor": 2
}
