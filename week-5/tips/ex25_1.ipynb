{
 "cells": [
  {
   "cell_type": "code",
   "execution_count": 1,
   "metadata": {},
   "outputs": [],
   "source": [
    "import random\n",
    "import networkx as nx"
   ]
  },
  {
   "cell_type": "code",
   "execution_count": 2,
   "metadata": {},
   "outputs": [],
   "source": [
    "# Load data\n",
    "# Tip: The data is in the format of edgelist\n",
    "# Tip 2: The node type is int (nodetype=int)\n",
    "G = nx.read_edgelist(\"../data/25_1.txt\", nodetype = int)"
   ]
  },
  {
   "cell_type": "code",
   "execution_count": 3,
   "metadata": {},
   "outputs": [],
   "source": [
    "# We need to keep track of the nodes and the edges we have sampled, so we store them in sets.\n",
    "# Then we need a seed node where to start the exploration. Here I decided to just pick a random node.\n",
    "sampled_nodes = set()\n",
    "sampled_edges = set()\n",
    "curnode = random.choice(list(G.nodes))"
   ]
  },
  {
   "cell_type": "code",
   "execution_count": 4,
   "metadata": {},
   "outputs": [],
   "source": [
    "# Tip: Remember that we have to sample 2000 nodes. This can be done in a while loop.\n",
    "# Tip 2: Get the neighbors of the current node.\n",
    "# Tip 3: \n",
    " \n",
    "while len(sampled_nodes) <= 2000:\n",
    "   # First we get the neighbors of the node we're currently exploring\n",
    "   neighbors = list(G.neighbors(curnode))\n",
    "   if not curnode in sampled_nodes: # This is true if we never sampled this node before. This means we never added its connections to sampled_edges\n",
    "      \n",
    "      sampled_nodes.add(curnode) # This will allow us to remember we sampled this node\n",
    "      \n",
    "      # We update the set of sampled edges. We need to have a canonical representation of the edge because the network is undirected,\n",
    "      # so if we already saw the edge because we sampled the neighbor, we might have stored the edge as (neighbor, curnode) rather than\n",
    "      # (curnode, neighbor). With this min-max trick, this is not an issue.\n",
    "      \n",
    "      new_edges = set([(min(curnode, neighbor), max(curnode, neighbor)) for neighbor in neighbors])\n",
    "      sampled_edges.update(new_edges) \n",
    "   \n",
    "   # We move on to sampling a random neighbor of the current node, because we're doing a random walk.\n",
    "   curnode = random.choice(neighbors) \n"
   ]
  },
  {
   "cell_type": "code",
   "execution_count": 5,
   "metadata": {},
   "outputs": [
    {
     "name": "stdout",
     "output_type": "stream",
     "text": [
      "64294\n"
     ]
    }
   ],
   "source": [
    "# Make a graf of the sampled edges\n",
    "G_smpl = nx.Graph(list(sampled_edges))\n",
    "\n",
    "# Print the number of nodes\n",
    "print(len(G_smpl.nodes))"
   ]
  },
  {
   "cell_type": "code",
   "execution_count": null,
   "metadata": {},
   "outputs": [],
   "source": []
  }
 ],
 "metadata": {
  "kernelspec": {
   "display_name": "NA",
   "language": "python",
   "name": "python3"
  },
  "language_info": {
   "codemirror_mode": {
    "name": "ipython",
    "version": 3
   },
   "file_extension": ".py",
   "mimetype": "text/x-python",
   "name": "python",
   "nbconvert_exporter": "python",
   "pygments_lexer": "ipython3",
   "version": "3.10.12"
  },
  "orig_nbformat": 4
 },
 "nbformat": 4,
 "nbformat_minor": 2
}
