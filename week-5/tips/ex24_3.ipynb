{
 "cells": [
  {
   "cell_type": "code",
   "execution_count": 1,
   "metadata": {},
   "outputs": [],
   "source": [
    "import numpy as np\n",
    "import networkx as nx"
   ]
  },
  {
   "cell_type": "code",
   "execution_count": 2,
   "metadata": {},
   "outputs": [],
   "source": [
    "# Load the data\n",
    "# Tip: The data is in the form of an edgelist\n",
    "# Tip 2: The arguments data=[(\"weight\", float),] should be used to load the weights\n",
    "# Tip 3 : The argument create_using=nx.DiGraph() should be used to load the data as a directed graph"
   ]
  },
  {
   "cell_type": "code",
   "execution_count": 3,
   "metadata": {},
   "outputs": [],
   "source": [
    "# Let's start by getting the adjacency matrix\n",
    "# Tip: Use the function nx.to_numpy_matrix()"
   ]
  },
  {
   "cell_type": "code",
   "execution_count": 4,
   "metadata": {},
   "outputs": [],
   "source": [
    "# If we want to get the doubly stochastic, we need to alternatively\n",
    "# normalize by row and column sum. We stop only when the deviation\n",
    "# from one is very little, thus the row/column sum is very close to\n",
    "# one. We also need to keep track of how many times we performed\n",
    "# the normalization. If we keep going back and forth between the\n",
    "# same two values, it means we're not converging.\n",
    "\n",
    "# Tip: Do a while loop that checks if the standard deviation of the 1 axis sums is greater than 1e-12\n",
    "# Tip 2: Normalize by row sum and by column sum\n",
    "# Tip 3: Remember to keep track of the number of attempts ( if greater than 1000 then break)\n"
   ]
  },
  {
   "cell_type": "code",
   "execution_count": null,
   "metadata": {},
   "outputs": [],
   "source": []
  }
 ],
 "metadata": {
  "kernelspec": {
   "display_name": "NA",
   "language": "python",
   "name": "python3"
  },
  "language_info": {
   "codemirror_mode": {
    "name": "ipython",
    "version": 3
   },
   "file_extension": ".py",
   "mimetype": "text/x-python",
   "name": "python",
   "nbconvert_exporter": "python",
   "pygments_lexer": "ipython3",
   "version": "3.10.12"
  },
  "orig_nbformat": 4
 },
 "nbformat": 4,
 "nbformat_minor": 2
}
