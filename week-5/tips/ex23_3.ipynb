{
 "cells": [
  {
   "cell_type": "code",
   "execution_count": 1,
   "metadata": {},
   "outputs": [],
   "source": [
    "import pandas as pd\n",
    "import networkx as nx\n",
    "from scipy import sparse\n",
    "import matplotlib.pyplot as plt"
   ]
  },
  {
   "cell_type": "code",
   "execution_count": 2,
   "metadata": {},
   "outputs": [],
   "source": [
    "#  Make the code from the previous question into its own function\n",
    "# Tip: Should take a network and a list of nodes as input and return a network"
   ]
  },
  {
   "cell_type": "code",
   "execution_count": 3,
   "metadata": {},
   "outputs": [],
   "source": [
    "# Function calculating hyperbolic weights. basically, we just need to normalize\n",
    "# the bipartite adjacency matrix by its degree, because each neighbo now counts\n",
    "# not as one, but as one over the degree. Then the rest is as before.\n",
    "\n",
    "# Tip: Should take a network and a list of nodes as input\n",
    "# Tip 2: sparse.csr_matrix() might be useful after the normalization "
   ]
  },
  {
   "cell_type": "code",
   "execution_count": 4,
   "metadata": {},
   "outputs": [],
   "source": [
    "# Load the data and get the correct node list\n",
    "\n",
    "# Tip: The data is in the format of an edgelist\n",
    "# Tip 2: Remember to sort the nodes\n",
    "# Tip 3: Use nx.algorithms.bipartite.basic.sets to get the nodes\n"
   ]
  },
  {
   "cell_type": "code",
   "execution_count": 5,
   "metadata": {},
   "outputs": [],
   "source": [
    "# Use the functions to project the networks (simple and hyperbolic) \n",
    "# Tip: Get all edges from both networks for the plotting"
   ]
  },
  {
   "cell_type": "code",
   "execution_count": 6,
   "metadata": {},
   "outputs": [],
   "source": [
    "# Make a dataframe with the edges and the weights from the two networks\n",
    "# Tip: You can use a list comperhension to do this\n",
    "# Tip 2: The columns should be something like (edge, simple, hyperbolic)"
   ]
  },
  {
   "cell_type": "code",
   "execution_count": 7,
   "metadata": {},
   "outputs": [],
   "source": [
    "# plot a scatter plot of the two weights \n",
    "# Tip: You can use the dataframe plot function\n",
    "# Tip: x should be the simple weights and y the hyperbolic weights"
   ]
  },
  {
   "cell_type": "code",
   "execution_count": null,
   "metadata": {},
   "outputs": [],
   "source": []
  }
 ],
 "metadata": {
  "kernelspec": {
   "display_name": "NA",
   "language": "python",
   "name": "python3"
  },
  "language_info": {
   "codemirror_mode": {
    "name": "ipython",
    "version": 3
   },
   "file_extension": ".py",
   "mimetype": "text/x-python",
   "name": "python",
   "nbconvert_exporter": "python",
   "pygments_lexer": "ipython3",
   "version": "3.10.12"
  },
  "orig_nbformat": 4
 },
 "nbformat": 4,
 "nbformat_minor": 2
}
