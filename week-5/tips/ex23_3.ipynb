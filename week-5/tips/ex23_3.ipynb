{
 "cells": [
  {
   "cell_type": "code",
   "execution_count": 1,
   "metadata": {},
   "outputs": [],
   "source": [
    "import pandas as pd\n",
    "import networkx as nx\n",
    "from scipy import sparse\n",
    "import matplotlib.pyplot as plt"
   ]
  },
  {
   "cell_type": "code",
   "execution_count": 2,
   "metadata": {},
   "outputs": [],
   "source": [
    "#  Make the code from the previous question into its own function\n",
    "# Tip: Should take a network and a list of nodes as input and return a network"
   ]
  },
  {
   "cell_type": "code",
   "execution_count": 4,
   "metadata": {},
   "outputs": [],
   "source": [
    "# Function calculating hyperbolic weights. basically, we just need to normalize\n",
    "# the bipartite adjacency matrix by its degree, because each neighbo now counts\n",
    "# not as one, but as one over the degree. Then the rest is as before.\n",
    "\n",
    "# Tip: Should take a network and a list of nodes as input\n",
    "# Tip 2: sparse.csr_matrix() might be useful after the normalization "
   ]
  },
  {
   "cell_type": "code",
   "execution_count": 5,
   "metadata": {},
   "outputs": [],
   "source": [
    "# Load the data and get the correct node list\n",
    "\n",
    "# Tip: The data is in the format of an edgelist\n",
    "# Tip 2: Remember to sort the nodes\n",
    "# Tip 3: Use nx.algorithms.bipartite.basic.sets to get the nodes\n"
   ]
  },
  {
   "cell_type": "code",
   "execution_count": 6,
   "metadata": {},
   "outputs": [
    {
     "name": "stderr",
     "output_type": "stream",
     "text": [
      "C:\\Users\\Nicklas\\AppData\\Local\\Temp\\ipykernel_32492\\2578492621.py:2: FutureWarning: biadjacency_matrix will return a scipy.sparse array instead of a matrix in NetworkX 3.0\n",
      "  T = nx.algorithms.bipartite.matrix.biadjacency_matrix(network, row_order = nodes)\n",
      "C:\\Users\\Nicklas\\AppData\\Local\\Temp\\ipykernel_32492\\2578492621.py:6: DeprecationWarning: \n",
      "\n",
      "The scipy.sparse array containers will be used instead of matrices\n",
      "in Networkx 3.0. Use `from_scipy_sparse_array` instead.\n",
      "  G = nx.from_scipy_sparse_matrix(U)\n",
      "C:\\Users\\Nicklas\\AppData\\Local\\Temp\\ipykernel_32492\\1553568665.py:6: FutureWarning: biadjacency_matrix will return a scipy.sparse array instead of a matrix in NetworkX 3.0\n",
      "  T = nx.algorithms.bipartite.matrix.biadjacency_matrix(network, row_order = nodes)\n"
     ]
    },
    {
     "ename": "AttributeError",
     "evalue": "'matrix' object has no attribute 'setdiag'",
     "output_type": "error",
     "traceback": [
      "\u001b[1;31m---------------------------------------------------------------------------\u001b[0m",
      "\u001b[1;31mAttributeError\u001b[0m                            Traceback (most recent call last)",
      "\u001b[1;32mc:\\Users\\Nicklas\\Desktop\\5. Semester\\Network Analysis\\github\\Network-Analysis-Hints\\week-5\\tips\\ex23_3.ipynb Cell 6\u001b[0m line \u001b[0;36m4\n\u001b[0;32m      <a href='vscode-notebook-cell:/c%3A/Users/Nicklas/Desktop/5.%20Semester/Network%20Analysis/github/Network-Analysis-Hints/week-5/tips/ex23_3.ipynb#W4sZmlsZQ%3D%3D?line=0'>1</a>\u001b[0m \u001b[39m# Use the functions to project the networks (simple and hyperbolic) \u001b[39;00m\n\u001b[0;32m      <a href='vscode-notebook-cell:/c%3A/Users/Nicklas/Desktop/5.%20Semester/Network%20Analysis/github/Network-Analysis-Hints/week-5/tips/ex23_3.ipynb#W4sZmlsZQ%3D%3D?line=1'>2</a>\u001b[0m \u001b[39m# Tip: Get all edges from both networks for the plotting\u001b[39;00m\n\u001b[0;32m      <a href='vscode-notebook-cell:/c%3A/Users/Nicklas/Desktop/5.%20Semester/Network%20Analysis/github/Network-Analysis-Hints/week-5/tips/ex23_3.ipynb#W4sZmlsZQ%3D%3D?line=2'>3</a>\u001b[0m G_simple \u001b[39m=\u001b[39m simple(G, nodes)\n\u001b[1;32m----> <a href='vscode-notebook-cell:/c%3A/Users/Nicklas/Desktop/5.%20Semester/Network%20Analysis/github/Network-Analysis-Hints/week-5/tips/ex23_3.ipynb#W4sZmlsZQ%3D%3D?line=3'>4</a>\u001b[0m G_hyper \u001b[39m=\u001b[39m hyper(G, nodes)\n\u001b[0;32m      <a href='vscode-notebook-cell:/c%3A/Users/Nicklas/Desktop/5.%20Semester/Network%20Analysis/github/Network-Analysis-Hints/week-5/tips/ex23_3.ipynb#W4sZmlsZQ%3D%3D?line=4'>5</a>\u001b[0m all_edges \u001b[39m=\u001b[39m \u001b[39mset\u001b[39m(G_simple\u001b[39m.\u001b[39medges) \u001b[39m|\u001b[39m \u001b[39mset\u001b[39m(G_hyper\u001b[39m.\u001b[39medges)\n",
      "\u001b[1;32mc:\\Users\\Nicklas\\Desktop\\5. Semester\\Network Analysis\\github\\Network-Analysis-Hints\\week-5\\tips\\ex23_3.ipynb Cell 6\u001b[0m line \u001b[0;36m9\n\u001b[0;32m      <a href='vscode-notebook-cell:/c%3A/Users/Nicklas/Desktop/5.%20Semester/Network%20Analysis/github/Network-Analysis-Hints/week-5/tips/ex23_3.ipynb#W4sZmlsZQ%3D%3D?line=6'>7</a>\u001b[0m T \u001b[39m/\u001b[39m\u001b[39m=\u001b[39m T\u001b[39m.\u001b[39msum(axis \u001b[39m=\u001b[39m \u001b[39m0\u001b[39m)\n\u001b[0;32m      <a href='vscode-notebook-cell:/c%3A/Users/Nicklas/Desktop/5.%20Semester/Network%20Analysis/github/Network-Analysis-Hints/week-5/tips/ex23_3.ipynb#W4sZmlsZQ%3D%3D?line=7'>8</a>\u001b[0m U \u001b[39m=\u001b[39m T \u001b[39m*\u001b[39m T\u001b[39m.\u001b[39mT\n\u001b[1;32m----> <a href='vscode-notebook-cell:/c%3A/Users/Nicklas/Desktop/5.%20Semester/Network%20Analysis/github/Network-Analysis-Hints/week-5/tips/ex23_3.ipynb#W4sZmlsZQ%3D%3D?line=8'>9</a>\u001b[0m U\u001b[39m.\u001b[39;49msetdiag(\u001b[39m0\u001b[39m)\n\u001b[0;32m     <a href='vscode-notebook-cell:/c%3A/Users/Nicklas/Desktop/5.%20Semester/Network%20Analysis/github/Network-Analysis-Hints/week-5/tips/ex23_3.ipynb#W4sZmlsZQ%3D%3D?line=9'>10</a>\u001b[0m U\u001b[39m.\u001b[39meliminate_zeros()\n\u001b[0;32m     <a href='vscode-notebook-cell:/c%3A/Users/Nicklas/Desktop/5.%20Semester/Network%20Analysis/github/Network-Analysis-Hints/week-5/tips/ex23_3.ipynb#W4sZmlsZQ%3D%3D?line=10'>11</a>\u001b[0m G \u001b[39m=\u001b[39m nx\u001b[39m.\u001b[39mfrom_scipy_sparse_matrix(U)\n",
      "\u001b[1;31mAttributeError\u001b[0m: 'matrix' object has no attribute 'setdiag'"
     ]
    }
   ],
   "source": [
    "# Use the functions to project the networks (simple and hyperbolic) \n",
    "# Tip: Get all edges from both networks for the plotting"
   ]
  },
  {
   "cell_type": "code",
   "execution_count": null,
   "metadata": {},
   "outputs": [],
   "source": [
    "# Make a dataframe with the edges and the weights from the two networks\n",
    "# Tip: You can use a list comperhension to do this\n",
    "# Tip 2: The columns should be something like (edge, simple, hyperbolic)"
   ]
  },
  {
   "cell_type": "code",
   "execution_count": null,
   "metadata": {},
   "outputs": [
    {
     "data": {
      "image/png": "[encoded data removed]",
      "text/plain": [
       "<Figure size 640x480 with 1 Axes>"
      ]
     },
     "metadata": {},
     "output_type": "display_data"
    }
   ],
   "source": [
    "# plot a scatter plot of the two weights \n",
    "# Tip: You can use the dataframe plot function\n",
    "# Tip: x should be the simple weights and y the hyperbolic weights"
   ]
  },
  {
   "cell_type": "code",
   "execution_count": null,
   "metadata": {},
   "outputs": [],
   "source": []
  }
 ],
 "metadata": {
  "kernelspec": {
   "display_name": "NA",
   "language": "python",
   "name": "python3"
  },
  "language_info": {
   "codemirror_mode": {
    "name": "ipython",
    "version": 3
   },
   "file_extension": ".py",
   "mimetype": "text/x-python",
   "name": "python",
   "nbconvert_exporter": "python",
   "pygments_lexer": "ipython3",
   "version": "3.10.12"
  },
  "orig_nbformat": 4
 },
 "nbformat": 4,
 "nbformat_minor": 2
}
