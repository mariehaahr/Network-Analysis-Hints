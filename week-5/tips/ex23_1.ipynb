{
 "cells": [
  {
   "cell_type": "code",
   "execution_count": 1,
   "metadata": {},
   "outputs": [],
   "source": [
    "import networkx as nx"
   ]
  },
  {
   "cell_type": "code",
   "execution_count": 2,
   "metadata": {},
   "outputs": [],
   "source": [
    "# Load the data\n",
    "# Tip the data is in the format of an edgelist\n",
    "\n",
    "# Let's figure out which node is of which type\n",
    "# Tip: use nx.algorithms.bipartite.basics.sets"
   ]
  },
  {
   "cell_type": "code",
   "execution_count": 3,
   "metadata": {},
   "outputs": [],
   "source": [
    "# We'll project on nodes of type a\n",
    "\n",
    "# Let's get the bipartite adjacency matrix\n",
    "# Tip: use nx.algorithms.bipartite.matrix.biadjacency_matrix"
   ]
  },
  {
   "cell_type": "code",
   "execution_count": 4,
   "metadata": {},
   "outputs": [],
   "source": [
    "# If we multiply the bipartite adjacency matrix with its transpose we obtain the number of\n",
    "# common ones between two rows, i.e. the number of common neighbors between the nodes.\n",
    "\n",
    "# We set the diagonal to zero because we don't care about self loops\n",
    "# Tip: use setdiag() and eliminate_zeros()"
   ]
  },
  {
   "cell_type": "code",
   "execution_count": 5,
   "metadata": {},
   "outputs": [],
   "source": [
    "# We get the projected graph back. ( nx.from_scipy_sparse_matrix)\n",
    "# We relabel to recover the original node IDs (cab be done, but is not necessary)\n",
    "\n",
    "# Graph is super dense! 40%"
   ]
  }
 ],
 "metadata": {
  "kernelspec": {
   "display_name": "NA",
   "language": "python",
   "name": "python3"
  },
  "language_info": {
   "codemirror_mode": {
    "name": "ipython",
    "version": 3
   },
   "file_extension": ".py",
   "mimetype": "text/x-python",
   "name": "python",
   "nbconvert_exporter": "python",
   "pygments_lexer": "ipython3",
   "version": "3.10.12"
  },
  "orig_nbformat": 4
 },
 "nbformat": 4,
 "nbformat_minor": 2
}
