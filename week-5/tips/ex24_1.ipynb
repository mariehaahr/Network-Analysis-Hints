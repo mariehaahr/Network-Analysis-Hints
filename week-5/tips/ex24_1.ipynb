{
 "cells": [
  {
   "cell_type": "code",
   "execution_count": 1,
   "metadata": {},
   "outputs": [],
   "source": [
    "import numpy as np\n",
    "import pandas as pd\n",
    "import networkx as nx\n",
    "from collections import Counter\n",
    "import matplotlib.pyplot as plt"
   ]
  },
  {
   "cell_type": "code",
   "execution_count": 2,
   "metadata": {},
   "outputs": [],
   "source": [
    "# Load the data\n",
    "# Tip: The data is in the form of an edgelist\n",
    "# Tip 2: The arguments data=[(\"weight\", float),] should be used to load the weights\n",
    "# Tip 3 : The argument create_using=nx.DiGraph() should be used to load the data as a directed graph"
   ]
  },
  {
   "cell_type": "code",
   "execution_count": 3,
   "metadata": {},
   "outputs": [],
   "source": [
    "# Get the weights\n",
    "# Tip: nx.get_edge_attributes to get the weights attribute\n",
    "# Tip 2 This returns a dictionary, so use list(dict.values()) to get the values"
   ]
  },
  {
   "cell_type": "code",
   "execution_count": 4,
   "metadata": {},
   "outputs": [],
   "source": [
    "# Let's use our degree CCDF code for the edge weights\n",
    "# Tip Same aproach as the privious CCDF exercises but now with the edge weights instead of the degrees\n"
   ]
  },
  {
   "cell_type": "code",
   "execution_count": 5,
   "metadata": {},
   "outputs": [],
   "source": [
    "# Average & stdev of the weights\n",
    "# Tip: Use numpy to calculate the mean and standard deviation of the weights"
   ]
  }
 ],
 "metadata": {
  "kernelspec": {
   "display_name": "NA",
   "language": "python",
   "name": "python3"
  },
  "language_info": {
   "codemirror_mode": {
    "name": "ipython",
    "version": 3
   },
   "file_extension": ".py",
   "mimetype": "text/x-python",
   "name": "python",
   "nbconvert_exporter": "python",
   "pygments_lexer": "ipython3",
   "version": "3.10.12"
  },
  "orig_nbformat": 4
 },
 "nbformat": 4,
 "nbformat_minor": 2
}
