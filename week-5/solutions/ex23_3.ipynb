{
 "cells": [
  {
   "cell_type": "code",
   "execution_count": 1,
   "metadata": {},
   "outputs": [],
   "source": [
    "import pandas as pd\n",
    "import networkx as nx\n",
    "from scipy import sparse\n",
    "import matplotlib.pyplot as plt"
   ]
  },
  {
   "cell_type": "code",
   "execution_count": 2,
   "metadata": {},
   "outputs": [],
   "source": [
    "# We make the code from the previous question into its own function\n",
    "def simple(network, nodes):\n",
    "   T = nx.algorithms.bipartite.matrix.biadjacency_matrix(network, row_order = nodes)\n",
    "   U = T * T.T\n",
    "   U.setdiag(0)\n",
    "   U.eliminate_zeros()\n",
    "   G = nx.from_scipy_sparse_matrix(U)\n",
    "   return nx.relabel_nodes(G, {i: nodes[i] for i in range(len(nodes))})"
   ]
  },
  {
   "cell_type": "code",
   "execution_count": 3,
   "metadata": {},
   "outputs": [],
   "source": [
    "# Function calculating hyperbolic weights. basically, we just need to normalize\n",
    "# the bipartite adjacency matrix by its degree, because each neighbo now counts\n",
    "# not as one, but as one over the degree. Then the rest is as before.\n",
    "def hyper(network, nodes):\n",
    "   T = nx.algorithms.bipartite.matrix.biadjacency_matrix(network, row_order = nodes)\n",
    "   T /= T.sum(axis = 0)\n",
    "   T = sparse.csr_matrix(T)\n",
    "   U = T * T.T\n",
    "   U.setdiag(0)\n",
    "   U.eliminate_zeros()\n",
    "   G = nx.from_scipy_sparse_matrix(U)\n",
    "   return nx.relabel_nodes(G, {i: nodes[i] for i in range(len(nodes))})"
   ]
  },
  {
   "cell_type": "code",
   "execution_count": 4,
   "metadata": {},
   "outputs": [],
   "source": [
    "    # Load the data and get the correct node list\n",
    "G = nx.read_edgelist(\"../data/23_1.txt\")\n",
    "nodes = nx.algorithms.bipartite.basic.sets(G)\n",
    "rows = sorted(list(nodes[0]))\n",
    "cols = sorted(list(nodes[1]))\n",
    "if \"a1\" in rows:\n",
    "   nodes = rows\n",
    "else:\n",
    "   nodes = cols"
   ]
  },
  {
   "cell_type": "code",
   "execution_count": 5,
   "metadata": {},
   "outputs": [
    {
     "name": "stderr",
     "output_type": "stream",
     "text": [
      "C:\\Users\\Nicklas\\AppData\\Local\\Temp\\ipykernel_34404\\1311487997.py:3: FutureWarning: biadjacency_matrix will return a scipy.sparse array instead of a matrix in NetworkX 3.0\n",
      "  T = nx.algorithms.bipartite.matrix.biadjacency_matrix(network, row_order = nodes)\n",
      "C:\\Users\\Nicklas\\AppData\\Local\\Temp\\ipykernel_34404\\1311487997.py:7: DeprecationWarning: \n",
      "\n",
      "The scipy.sparse array containers will be used instead of matrices\n",
      "in Networkx 3.0. Use `from_scipy_sparse_array` instead.\n",
      "  G = nx.from_scipy_sparse_matrix(U)\n",
      "C:\\Users\\Nicklas\\AppData\\Local\\Temp\\ipykernel_34404\\3215635778.py:5: FutureWarning: biadjacency_matrix will return a scipy.sparse array instead of a matrix in NetworkX 3.0\n",
      "  T = nx.algorithms.bipartite.matrix.biadjacency_matrix(network, row_order = nodes)\n",
      "C:\\Users\\Nicklas\\AppData\\Local\\Temp\\ipykernel_34404\\3215635778.py:11: DeprecationWarning: \n",
      "\n",
      "The scipy.sparse array containers will be used instead of matrices\n",
      "in Networkx 3.0. Use `from_scipy_sparse_array` instead.\n",
      "  G = nx.from_scipy_sparse_matrix(U)\n"
     ]
    }
   ],
   "source": [
    "G_simple = simple(G, nodes)\n",
    "G_hyper = hyper(G, nodes)\n",
    "all_edges = set(G_simple.edges) | set(G_hyper.edges)"
   ]
  },
  {
   "cell_type": "code",
   "execution_count": 6,
   "metadata": {},
   "outputs": [
    {
     "ename": "SyntaxError",
     "evalue": "incomplete input (2684493613.py, line 7)",
     "output_type": "error",
     "traceback": [
      "\u001b[1;36m  Cell \u001b[1;32mIn[6], line 7\u001b[1;36m\u001b[0m\n\u001b[1;33m    plt.show(\u001b[0m\n\u001b[1;37m             ^\u001b[0m\n\u001b[1;31mSyntaxError\u001b[0m\u001b[1;31m:\u001b[0m incomplete input\n"
     ]
    }
   ],
   "source": [
    "df = pd.DataFrame(data = [(e,\n",
    "                           G_simple.edges[e][\"weight\"] if e in G_simple.edges else 0, \n",
    "                           G_hyper.edges[e][\"weight\"] if e in G_hyper.edges else 0)\n",
    "                         for e in all_edges], columns = (\"edge\", \"simple\", \"hyper\"))\n",
    "\n",
    "df.plot(kind = \"scatter\", x = \"simple\", y = \"hyper\", color = \"#e41a1c\")\n",
    "plt.show("
   ]
  }
 ],
 "metadata": {
  "kernelspec": {
   "display_name": "NA",
   "language": "python",
   "name": "python3"
  },
  "language_info": {
   "codemirror_mode": {
    "name": "ipython",
    "version": 3
   },
   "file_extension": ".py",
   "mimetype": "text/x-python",
   "name": "python",
   "nbconvert_exporter": "python",
   "pygments_lexer": "ipython3",
   "version": "3.10.12"
  },
  "orig_nbformat": 4
 },
 "nbformat": 4,
 "nbformat_minor": 2
}
