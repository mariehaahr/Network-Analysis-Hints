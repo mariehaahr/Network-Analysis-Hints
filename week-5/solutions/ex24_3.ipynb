{
 "cells": [
  {
   "cell_type": "code",
   "execution_count": 1,
   "metadata": {},
   "outputs": [],
   "source": [
    "import numpy as np\n",
    "import networkx as nx"
   ]
  },
  {
   "cell_type": "code",
   "execution_count": 2,
   "metadata": {},
   "outputs": [],
   "source": [
    "# Load the data\n",
    "G = nx.read_edgelist(\"../data/24_1.txt\", data = [(\"weight\", float),], create_using = nx.DiGraph())"
   ]
  },
  {
   "cell_type": "code",
   "execution_count": 3,
   "metadata": {},
   "outputs": [],
   "source": [
    "# Let's start by getting the adjacency matrix\n",
    "A = nx.to_numpy_matrix(G)"
   ]
  },
  {
   "cell_type": "code",
   "execution_count": 4,
   "metadata": {},
   "outputs": [
    {
     "name": "stdout",
     "output_type": "stream",
     "text": [
      "Calculation converged. Here's A:\n",
      "[[0.00000000e+00 9.29197199e-07 9.75734853e-05 ... 0.00000000e+00\n",
      "  0.00000000e+00 0.00000000e+00]\n",
      " [0.00000000e+00 0.00000000e+00 8.73760713e-04 ... 0.00000000e+00\n",
      "  0.00000000e+00 0.00000000e+00]\n",
      " [0.00000000e+00 1.46183715e-03 0.00000000e+00 ... 0.00000000e+00\n",
      "  0.00000000e+00 0.00000000e+00]\n",
      " ...\n",
      " [0.00000000e+00 0.00000000e+00 4.05688025e-05 ... 0.00000000e+00\n",
      "  0.00000000e+00 0.00000000e+00]\n",
      " [0.00000000e+00 0.00000000e+00 2.59041160e-03 ... 0.00000000e+00\n",
      "  0.00000000e+00 0.00000000e+00]\n",
      " [0.00000000e+00 6.32560627e-06 3.66899981e-03 ... 0.00000000e+00\n",
      "  0.00000000e+00 0.00000000e+00]]\n"
     ]
    }
   ],
   "source": [
    "# If we want to get the doubly stochastic, we need to alternatively\n",
    "# normalize by row and column sum. We stop only when the deviation\n",
    "# from one is very little, thus the row/column sum is very close to\n",
    "# one. We also need to keep track of how many times we performed\n",
    "# the normalization. If we keep going back and forth between the\n",
    "# same two values, it means we're not converging.\n",
    "attempts = 0\n",
    "row_sums = A.sum(axis = 1)\n",
    "while np.std(A.sum(axis = 1)) > 1e-12:\n",
    "   A /= A.sum(axis = 1)\n",
    "   A /= A.sum(axis = 0)\n",
    "   attempts += 1\n",
    "   if attempts > 1000:\n",
    "      print(\"Calculation didn't converge. The matrix cannot be made doubly stochastic. Aborting.\")\n",
    "      break\n",
    "\n",
    "print(\"Calculation converged. Here's A:\")\n",
    "print(A)\n",
    "# YES! Calculation converges! Phew!"
   ]
  },
  {
   "cell_type": "code",
   "execution_count": null,
   "metadata": {},
   "outputs": [],
   "source": []
  }
 ],
 "metadata": {
  "kernelspec": {
   "display_name": "NA",
   "language": "python",
   "name": "python3"
  },
  "language_info": {
   "codemirror_mode": {
    "name": "ipython",
    "version": 3
   },
   "file_extension": ".py",
   "mimetype": "text/x-python",
   "name": "python",
   "nbconvert_exporter": "python",
   "pygments_lexer": "ipython3",
   "version": "3.10.12"
  },
  "orig_nbformat": 4
 },
 "nbformat": 4,
 "nbformat_minor": 2
}
