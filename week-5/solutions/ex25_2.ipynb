{
 "cells": [
  {
   "cell_type": "code",
   "execution_count": 1,
   "metadata": {},
   "outputs": [],
   "source": [
    "import random\n",
    "import numpy as np\n",
    "import pandas as pd\n",
    "import networkx as nx\n",
    "from collections import Counter\n",
    "from scipy.stats import linregress"
   ]
  },
  {
   "cell_type": "code",
   "execution_count": 2,
   "metadata": {},
   "outputs": [],
   "source": [
    "# Function implementing the random walk logic from the previous question\n",
    "# Tip: Should take in a graph and a number of nodes to sample\n",
    "# Tip: Should return a graph with the sampled nodes and the edges between them\n",
    "def rw(G, n):\n",
    "   sampled_nodes = set()\n",
    "   sampled_edges = set()\n",
    "   curnode = random.choice(list(G.nodes))\n",
    "   while len(sampled_nodes) <= n:\n",
    "      neighbors = list(G.neighbors(curnode))\n",
    "      if not curnode in sampled_nodes:\n",
    "         sampled_nodes.add(curnode)\n",
    "         sampled_edges |= set([(min(curnode, neighbor), max(curnode, neighbor)) for neighbor in neighbors])\n",
    "      curnode = random.choice(neighbors)\n",
    "   return nx.Graph(list(sampled_edges))"
   ]
  },
  {
   "cell_type": "code",
   "execution_count": 3,
   "metadata": {},
   "outputs": [],
   "source": [
    "def ccdf(dd):\n",
    "   dd = pd.DataFrame(list(dd.items()), columns = (\"k\", \"count\")).sort_values(by = \"k\")\n",
    "   ccdf = dd.sort_values(by = \"k\", ascending = False)\n",
    "   ccdf[\"cumsum\"] = ccdf[\"count\"].cumsum()\n",
    "   ccdf[\"ccdf\"] = ccdf[\"cumsum\"] / ccdf[\"count\"].sum()\n",
    "   ccdf = ccdf[[\"k\", \"ccdf\"]].sort_values(by = \"k\")\n",
    "   return ccdf\n",
    "\n",
    "def dd_exponent(degdistr):\n",
    "   logcdf = np.log10(degdistr[[\"k\", \"ccdf\"]])\n",
    "   slope, log10intercept, r_value, p_value, std_err = linregress(logcdf[\"k\"], logcdf[\"ccdf\"])\n",
    "   return slope"
   ]
  },
  {
   "cell_type": "code",
   "execution_count": 4,
   "metadata": {},
   "outputs": [],
   "source": [
    "# Load the data\n",
    "# The data is in the form of an edgelist (nodetype=int)\n",
    "G = nx.read_edgelist(\"../data/25_1.txt\", nodetype = int)\n",
    "\n"
   ]
  },
  {
   "cell_type": "code",
   "execution_count": 5,
   "metadata": {},
   "outputs": [
    {
     "name": "stdout",
     "output_type": "stream",
     "text": [
      "Original Exponent: -1.6013\n"
     ]
    }
   ],
   "source": [
    "#Tip: Get the degree distribution of the original graph\n",
    "#Tip 1: turn the degree view into a dictionary and then get the values\n",
    "#Tip 2: You can use the Counter function from the collections package\n",
    "#Tip 3 Use the ccdf on the degree distribution to get the ccdf\n",
    "dd = Counter(dict(G.degree).values())\n",
    "G_ccdf = ccdf(dd)\n",
    "\n",
    "print(\"Original Exponent: %1.4f\" % dd_exponent(G_ccdf))"
   ]
  },
  {
   "cell_type": "code",
   "execution_count": 6,
   "metadata": {},
   "outputs": [],
   "source": [
    "# Let's take 100 samples and store their degree exponent in a list\n",
    "# This will take a while\n",
    "smpl_exponents = []\n",
    "for _ in range(100):\n",
    "   G_smpl = rw(G, 2000)\n",
    "   G_smpl_ccdf = ccdf(Counter(dict(G_smpl.degree).values()))\n",
    "   smpl_exponents.append(dd_exponent(G_smpl_ccdf))"
   ]
  },
  {
   "cell_type": "code",
   "execution_count": 7,
   "metadata": {},
   "outputs": [
    {
     "name": "stdout",
     "output_type": "stream",
     "text": [
      "Sample Exponent: -1.1251 (+/- 0.0097)\n"
     ]
    }
   ],
   "source": [
    "# Find the mean and standard deviation of the exponents\n",
    "smpl_exponents_mean = np.mean(smpl_exponents)\n",
    "smpl_exponents_std = np.std(smpl_exponents)\n",
    "print(\"Sample Exponent: %1.4f (+/- %1.4f)\" % (smpl_exponents_mean, smpl_exponents_std)) # The exponent of the sample is different! ~1.125 vs "
   ]
  }
 ],
 "metadata": {
  "kernelspec": {
   "display_name": "NA",
   "language": "python",
   "name": "python3"
  },
  "language_info": {
   "codemirror_mode": {
    "name": "ipython",
    "version": 3
   },
   "file_extension": ".py",
   "mimetype": "text/x-python",
   "name": "python",
   "nbconvert_exporter": "python",
   "pygments_lexer": "ipython3",
   "version": "3.10.12"
  },
  "orig_nbformat": 4
 },
 "nbformat": 4,
 "nbformat_minor": 2
}
