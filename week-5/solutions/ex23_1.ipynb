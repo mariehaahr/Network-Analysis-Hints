{
 "cells": [
  {
   "cell_type": "code",
   "execution_count": 1,
   "metadata": {},
   "outputs": [],
   "source": [
    "import networkx as nx"
   ]
  },
  {
   "cell_type": "code",
   "execution_count": 2,
   "metadata": {},
   "outputs": [
    {
     "name": "stdout",
     "output_type": "stream",
     "text": [
      "({'a5', 'a151', 'a129', 'a130', 'a105', 'a165', 'a146', 'a85', 'a240', 'a20', 'a72', 'a250', 'a81', 'a126', 'a102', 'a191', 'a30', 'a41', 'a91', 'a213', 'a68', 'a70', 'a64', 'a120', 'a179', 'a46', 'a181', 'a88', 'a153', 'a121', 'a161', 'a1', 'a90', 'a112', 'a199', 'a143', 'a206', 'a236', 'a12', 'a132', 'a124', 'a99', 'a128', 'a62', 'a75', 'a74', 'a71', 'a216', 'a33', 'a164', 'a60', 'a23', 'a244', 'a7', 'a59', 'a69', 'a54', 'a254', 'a28', 'a65', 'a137', 'a185', 'a239', 'a38', 'a118', 'a55', 'a248', 'a192', 'a83', 'a15', 'a193', 'a233', 'a10', 'a167', 'a211', 'a157', 'a207', 'a116', 'a234', 'a134', 'a21', 'a76', 'a57', 'a169', 'a106', 'a96', 'a119', 'a208', 'a209', 'a16', 'a147', 'a187', 'a109', 'a122', 'a52', 'a178', 'a225', 'a222', 'a93', 'a127', 'a92', 'a31', 'a223', 'a107', 'a26', 'a42', 'a95', 'a2', 'a67', 'a163', 'a110', 'a66', 'a86', 'a189', 'a34', 'a162', 'a230', 'a139', 'a215', 'a117', 'a174', 'a177', 'a160', 'a51', 'a152', 'a194', 'a195', 'a18', 'a103', 'a219', 'a47', 'a149', 'a45', 'a202', 'a27', 'a115', 'a158', 'a182', 'a200', 'a4', 'a37', 'a198', 'a156', 'a145', 'a150', 'a87', 'a140', 'a212', 'a227', 'a141', 'a58', 'a247', 'a36', 'a241', 'a243', 'a13', 'a253', 'a168', 'a80', 'a40', 'a17', 'a19', 'a249', 'a184', 'a159', 'a6', 'a44', 'a123', 'a231', 'a204', 'a173', 'a205', 'a251', 'a176', 'a39', 'a154', 'a111', 'a221', 'a22', 'a24', 'a242', 'a229', 'a32', 'a175', 'a113', 'a217', 'a49', 'a25', 'a63', 'a79', 'a220', 'a3', 'a9', 'a170', 'a78', 'a238', 'a186', 'a224', 'a210', 'a8', 'a235', 'a245', 'a148', 'a89', 'a82', 'a131', 'a73', 'a135', 'a11', 'a155', 'a190', 'a246', 'a125', 'a232', 'a218', 'a138', 'a43', 'a97', 'a252', 'a214', 'a35', 'a61', 'a98', 'a136', 'a201', 'a171', 'a166', 'a108', 'a142', 'a196', 'a133', 'a104', 'a114', 'a100', 'a29', 'a84', 'a180', 'a172', 'a144', 'a48', 'a94', 'a183', 'a188', 'a56', 'a53', 'a197', 'a237', 'a14'}, {'b390', 'b363', 'b263', 'b464', 'b321', 'b490', 'b33', 'b212', 'b277', 'b590', 'b569', 'b206', 'b439', 'b115', 'b516', 'b62', 'b74', 'b514', 'b50', 'b290', 'b235', 'b73', 'b355', 'b209', 'b614', 'b401', 'b75', 'b58', 'b119', 'b448', 'b79', 'b418', 'b551', 'b456', 'b41', 'b470', 'b187', 'b594', 'b332', 'b121', 'b114', 'b404', 'b11', 'b488', 'b21', 'b485', 'b327', 'b440', 'b500', 'b110', 'b476', 'b340', 'b555', 'b337', 'b344', 'b565', 'b43', 'b95', 'b143', 'b193', 'b68', 'b465', 'b603', 'b135', 'b216', 'b437', 'b194', 'b91', 'b56', 'b449', 'b518', 'b393', 'b125', 'b168', 'b303', 'b191', 'b499', 'b111', 'b78', 'b609', 'b13', 'b245', 'b383', 'b318', 'b397', 'b28', 'b395', 'b54', 'b596', 'b227', 'b414', 'b175', 'b451', 'b117', 'b269', 'b233', 'b249', 'b445', 'b352', 'b419', 'b51', 'b532', 'b579', 'b138', 'b391', 'b60', 'b267', 'b31', 'b128', 'b144', 'b99', 'b182', 'b250', 'b306', 'b98', 'b362', 'b538', 'b96', 'b173', 'b370', 'b475', 'b3', 'b411', 'b399', 'b416', 'b444', 'b580', 'b205', 'b432', 'b575', 'b547', 'b93', 'b89', 'b141', 'b154', 'b564', 'b92', 'b234', 'b25', 'b442', 'b325', 'b178', 'b240', 'b185', 'b443', 'b254', 'b198', 'b334', 'b316', 'b426', 'b582', 'b222', 'b424', 'b517', 'b605', 'b552', 'b64', 'b563', 'b494', 'b374', 'b599', 'b44', 'b431', 'b292', 'b243', 'b396', 'b497', 'b112', 'b270', 'b540', 'b310', 'b429', 'b425', 'b246', 'b17', 'b124', 'b133', 'b183', 'b22', 'b403', 'b82', 'b202', 'b364', 'b30', 'b331', 'b48', 'b152', 'b203', 'b371', 'b113', 'b478', 'b26', 'b163', 'b312', 'b291', 'b103', 'b455', 'b546', 'b454', 'b506', 'b23', 'b102', 'b140', 'b134', 'b101', 'b247', 'b47', 'b217', 'b9', 'b493', 'b592', 'b508', 'b32', 'b171', 'b422', 'b373', 'b55', 'b593', 'b398', 'b207', 'b360', 'b126', 'b282', 'b477', 'b535', 'b35', 'b307', 'b63', 'b149', 'b241', 'b392', 'b554', 'b61', 'b583', 'b471', 'b70', 'b601', 'b541', 'b297', 'b238', 'b189', 'b57', 'b542', 'b268', 'b81', 'b72', 'b343', 'b543', 'b560', 'b122', 'b520', 'b581', 'b353', 'b251', 'b545', 'b366', 'b262', 'b511', 'b458', 'b136', 'b162', 'b548', 'b521', 'b380', 'b288', 'b37', 'b346', 'b509', 'b378', 'b215', 'b177', 'b606', 'b97', 'b608', 'b4', 'b229', 'b284', 'b388', 'b330', 'b150', 'b225', 'b357', 'b195', 'b600', 'b597', 'b469', 'b253', 'b219', 'b169', 'b266', 'b585', 'b139', 'b379', 'b18', 'b573', 'b336', 'b197', 'b354', 'b595', 'b394', 'b296', 'b384', 'b19', 'b300', 'b283', 'b172', 'b148', 'b67', 'b24', 'b258', 'b389', 'b181', 'b6', 'b223', 'b522', 'b289', 'b561', 'b576', 'b12', 'b587', 'b345', 'b591', 'b479', 'b1', 'b319', 'b220', 'b417', 'b196', 'b529', 'b59', 'b77', 'b510', 'b556', 'b359', 'b368', 'b40', 'b481', 'b462', 'b210', 'b159', 'b526', 'b232', 'b179', 'b76', 'b441', 'b293', 'b213', 'b261', 'b531', 'b166', 'b586', 'b49', 'b39', 'b130', 'b14', 'b467', 'b567', 'b132', 'b5', 'b131', 'b427', 'b348', 'b356', 'b611', 'b486', 'b45', 'b155', 'b313', 'b474', 'b302', 'b274', 'b562', 'b80', 'b304', 'b201', 'b452', 'b53', 'b413', 'b190', 'b607', 'b184', 'b236', 'b315', 'b161', 'b294', 'b86', 'b453', 'b584', 'b226', 'b525', 'b271', 'b604', 'b137', 'b487', 'b308', 'b224', 'b446', 'b386', 'b204', 'b142', 'b324', 'b176', 'b118', 'b421', 'b483', 'b428', 'b264', 'b314', 'b341', 'b192', 'b71', 'b505', 'b329', 'b491', 'b377', 'b275', 'b351', 'b38', 'b208', 'b106', 'b15', 'b85', 'b231', 'b473', 'b524', 'b151', 'b280', 'b279', 'b323', 'b83', 'b188', 'b100', 'b273', 'b65', 'b46', 'b461', 'b539', 'b412', 'b335', 'b87', 'b533', 'b281', 'b242', 'b468', 'b400', 'b450', 'b186', 'b272', 'b170', 'b415', 'b527', 'b365', 'b230', 'b248', 'b244', 'b265', 'b259', 'b174', 'b381', 'b568', 'b420', 'b94', 'b301', 'b574', 'b309', 'b515', 'b447', 'b536', 'b410', 'b52', 'b29', 'b350', 'b492', 'b107', 'b257', 'b438', 'b408', 'b361', 'b358', 'b311', 'b466', 'b167', 'b566', 'b530', 'b553', 'b42', 'b146', 'b367', 'b405', 'b457', 'b434', 'b108', 'b372', 'b602', 'b338', 'b512', 'b239', 'b406', 'b214', 'b299', 'b305', 'b218', 'b534', 'b402', 'b252', 'b482', 'b199', 'b577', 'b228', 'b528', 'b519', 'b489', 'b435', 'b480', 'b120', 'b160', 'b298', 'b105', 'b349', 'b409', 'b369', 'b430', 'b559', 'b88', 'b387', 'b549', 'b513', 'b84', 'b165', 'b147', 'b375', 'b278', 'b2', 'b423', 'b109', 'b16', 'b503', 'b287', 'b472', 'b317', 'b496', 'b157', 'b495', 'b211', 'b90', 'b328', 'b116', 'b333', 'b537', 'b578', 'b612', 'b463', 'b156', 'b613', 'b276', 'b433', 'b376', 'b153', 'b260', 'b484', 'b558', 'b501', 'b610', 'b255', 'b507', 'b129', 'b36', 'b320', 'b237', 'b123', 'b347', 'b436', 'b27', 'b504', 'b286', 'b385', 'b158', 'b66', 'b588', 'b339', 'b460', 'b498', 'b285', 'b342', 'b295', 'b523', 'b164', 'b326', 'b550', 'b256', 'b8', 'b34', 'b382', 'b502', 'b20', 'b407', 'b570', 'b127', 'b544', 'b322', 'b10', 'b200', 'b69', 'b557', 'b221', 'b589', 'b598', 'b104', 'b459', 'b7'})\n"
     ]
    }
   ],
   "source": [
    "# Load the data\n",
    "G = nx.read_edgelist(\"../data/23_1.txt\")\n",
    "\n",
    "# Let's figure out which node is of which type\n",
    "# Tip: use nx.algorithms.bipartite.basics.sets\n",
    "nodes = nx.algorithms.bipartite.basic.sets(G)\n",
    "print(nodes)\n",
    "rows = sorted(list(nodes[0]))\n",
    "cols = sorted(list(nodes[1]))"
   ]
  },
  {
   "cell_type": "code",
   "execution_count": 3,
   "metadata": {},
   "outputs": [
    {
     "name": "stderr",
     "output_type": "stream",
     "text": [
      "C:\\Users\\Nicklas\\AppData\\Local\\Temp\\ipykernel_15200\\275712822.py:9: FutureWarning: biadjacency_matrix will return a scipy.sparse array instead of a matrix in NetworkX 3.0\n",
      "  T = nx.algorithms.bipartite.matrix.biadjacency_matrix(G, row_order = nodes)\n"
     ]
    }
   ],
   "source": [
    "# We'll project on nodes of type a\n",
    "if \"a1\" in rows:\n",
    "   nodes = rows\n",
    "else:\n",
    "   nodes = cols\n",
    "\n",
    "# Let's get the bipartite adjacency matrix\n",
    "# Tip: use nx.algorithms.bipartite.matrix.biadjacency_matrix\n",
    "T = nx.algorithms.bipartite.matrix.biadjacency_matrix(G, row_order = nodes)"
   ]
  },
  {
   "cell_type": "code",
   "execution_count": 4,
   "metadata": {},
   "outputs": [],
   "source": [
    "# If we multiply the bipartite adjacency matrix with its transpose we obtain the number of\n",
    "# common ones between two rows, i.e. the number of common neighbors between the nodes.\n",
    "U = T * T.T\n",
    "\n",
    "# We set the diagonal to zero because we don't care about self loops\n",
    "# Tip: use setdiag() and eliminate_zeros()\n",
    "U.setdiag(0)\n",
    "U.eliminate_zeros()"
   ]
  },
  {
   "cell_type": "code",
   "execution_count": 5,
   "metadata": {},
   "outputs": [
    {
     "name": "stdout",
     "output_type": "stream",
     "text": [
      "0.4097231291628575\n"
     ]
    },
    {
     "name": "stderr",
     "output_type": "stream",
     "text": [
      "C:\\Users\\Nicklas\\AppData\\Local\\Temp\\ipykernel_15200\\1818056177.py:2: DeprecationWarning: \n",
      "\n",
      "The scipy.sparse array containers will be used instead of matrices\n",
      "in Networkx 3.0. Use `from_scipy_sparse_array` instead.\n",
      "  G = nx.from_scipy_sparse_matrix(U)\n"
     ]
    }
   ],
   "source": [
    "# We get the projected graph back. ( nx.from_scipy_sparse_matrix)\n",
    "# We relabel to recover the original node IDs (cab be done, but is not necessary)\n",
    "G = nx.from_scipy_sparse_matrix(U)\n",
    "G = nx.relabel_nodes(G, {i: nodes[i] for i in range(len(nodes))})\n",
    "\n",
    "# Graph is super dense! 40%\n",
    "print(nx.density(G))"
   ]
  },
  {
   "cell_type": "code",
   "execution_count": null,
   "metadata": {},
   "outputs": [],
   "source": []
  }
 ],
 "metadata": {
  "kernelspec": {
   "display_name": "NA",
   "language": "python",
   "name": "python3"
  },
  "language_info": {
   "codemirror_mode": {
    "name": "ipython",
    "version": 3
   },
   "file_extension": ".py",
   "mimetype": "text/x-python",
   "name": "python",
   "nbconvert_exporter": "python",
   "pygments_lexer": "ipython3",
   "version": "3.10.12"
  },
  "orig_nbformat": 4
 },
 "nbformat": 4,
 "nbformat_minor": 2
}
