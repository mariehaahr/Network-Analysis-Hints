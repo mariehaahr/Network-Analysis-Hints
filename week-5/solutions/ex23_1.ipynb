{
 "cells": [
  {
   "cell_type": "code",
   "execution_count": 1,
   "metadata": {},
   "outputs": [],
   "source": [
    "import networkx as nx"
   ]
  },
  {
   "cell_type": "code",
   "execution_count": 4,
   "metadata": {},
   "outputs": [],
   "source": [
    "# Load the data\n",
    "G = nx.read_edgelist(\"../data/23_1.txt\")\n",
    "\n",
    "# Let's figure out which node is of which type\n",
    "nodes = nx.algorithms.bipartite.basic.sets(G)\n",
    "rows = sorted(list(nodes[0]))\n",
    "cols = sorted(list(nodes[1]))"
   ]
  },
  {
   "cell_type": "code",
   "execution_count": 5,
   "metadata": {},
   "outputs": [
    {
     "name": "stderr",
     "output_type": "stream",
     "text": [
      "C:\\Users\\Nicklas\\AppData\\Local\\Temp\\ipykernel_10156\\2177689248.py:8: FutureWarning: biadjacency_matrix will return a scipy.sparse array instead of a matrix in NetworkX 3.0\n",
      "  T = nx.algorithms.bipartite.matrix.biadjacency_matrix(G, row_order = nodes)\n"
     ]
    }
   ],
   "source": [
    "# We'll project on nodes of type a\n",
    "if \"a1\" in rows:\n",
    "   nodes = rows\n",
    "else:\n",
    "   nodes = cols\n",
    "\n",
    "# Let's get the bipartite adjacency matrix\n",
    "T = nx.algorithms.bipartite.matrix.biadjacency_matrix(G, row_order = nodes)"
   ]
  },
  {
   "cell_type": "code",
   "execution_count": 6,
   "metadata": {},
   "outputs": [],
   "source": [
    "# If we multiply the bipartite adjacency matrix with its transpose we obtain the number of\n",
    "# common ones between two rows, i.e. the number of common neighbors between the nodes.\n",
    "U = T * T.T\n",
    "\n",
    "# We set the diagonal to zero because we don't care about self loops\n",
    "U.setdiag(0)\n",
    "U.eliminate_zeros()"
   ]
  },
  {
   "cell_type": "code",
   "execution_count": 7,
   "metadata": {},
   "outputs": [
    {
     "name": "stdout",
     "output_type": "stream",
     "text": [
      "0.4097231291628575\n"
     ]
    },
    {
     "name": "stderr",
     "output_type": "stream",
     "text": [
      "C:\\Users\\Nicklas\\AppData\\Local\\Temp\\ipykernel_10156\\1818056177.py:2: DeprecationWarning: \n",
      "\n",
      "The scipy.sparse array containers will be used instead of matrices\n",
      "in Networkx 3.0. Use `from_scipy_sparse_array` instead.\n",
      "  G = nx.from_scipy_sparse_matrix(U)\n"
     ]
    }
   ],
   "source": [
    "# We get the projected graph back. We relabel to recover the original node IDs\n",
    "G = nx.from_scipy_sparse_matrix(U)\n",
    "G = nx.relabel_nodes(G, {i: nodes[i] for i in range(len(nodes))})\n",
    "\n",
    "# Graph is super dense! 40%\n",
    "print(nx.density(G))"
   ]
  }
 ],
 "metadata": {
  "kernelspec": {
   "display_name": "NA",
   "language": "python",
   "name": "python3"
  },
  "language_info": {
   "codemirror_mode": {
    "name": "ipython",
    "version": 3
   },
   "file_extension": ".py",
   "mimetype": "text/x-python",
   "name": "python",
   "nbconvert_exporter": "python",
   "pygments_lexer": "ipython3",
   "version": "3.10.12"
  },
  "orig_nbformat": 4
 },
 "nbformat": 4,
 "nbformat_minor": 2
}
